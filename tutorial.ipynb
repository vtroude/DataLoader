{
 "cells": [
  {
   "cell_type": "code",
   "execution_count": null,
   "metadata": {},
   "outputs": [],
   "source": [
    "from DataLoader.dataloader  import upload_trading_idea\n",
    "\n",
    "\n",
    "# Convert to timframe format from string to int in minute\n",
    "def process_timeframe(row):\n",
    "    for k, s in zip([\"D\", \"W\", \"M\"], [24, 5*24, 5*24*30]):\n",
    "        if k in row:\n",
    "            row = int(row.split(k)[0])*s*60\n",
    "            break\n",
    "    \n",
    "    return int(row)*60\n",
    "\n",
    "\n",
    "data    = pd.read_csv(\"Put Path to Data\")   # data pandas.DataFrame\n",
    "\n",
    "# Rename the columns to fit the database columns name\n",
    "data    = data.rename(columns={\"Pdate\": \"date\", \"Acc_Type\": \"account_type\", \"FinancialMarkets\": \"market\", \"Symbol\": \"code\"})\n",
    "data    = data.rename(columns={k: k.lower() for k in data.columns})                         # Set all the columns name to lower case\n",
    "\n",
    "# Convert to date string to pandas datetime\n",
    "data[\"date\"]        = pd.to_datetime(data[\"date\"], errors='coerce')\n",
    "data                = data.loc[data[\"date\"].dropna().index]                                 # Get rid of nan due to bad convertion of date to datetime\n",
    "data[\"timestamp\"]   = data.apply(lambda x: int(x[\"date\"].timestamp()), axis=1)              # Gather unix timestamp for all date\n",
    "data['date']        = data['date'].dt.tz_localize('UTC').dt.strftime(\"%Y-%m-%d %H:%M:%S\")   # Set datetime to GMT 0 / UCT time zone\n",
    "data[\"timeframe\"]   = data.apply(lambda x: process_timeframe(x[\"timeframe\"]), axis=1)       # Convert timeframe columns to second\n",
    "\n",
    "# Upload the pandas dataframe to the database\n",
    "upload_trading_idea(data)\n"
   ]
  }
 ],
 "metadata": {
  "language_info": {
   "name": "python"
  }
 },
 "nbformat": 4,
 "nbformat_minor": 2
}
